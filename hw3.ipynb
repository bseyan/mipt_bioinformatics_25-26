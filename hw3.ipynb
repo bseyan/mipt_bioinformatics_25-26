{
  "nbformat": 4,
  "nbformat_minor": 0,
  "metadata": {
    "colab": {
      "provenance": []
    },
    "kernelspec": {
      "name": "python3",
      "display_name": "Python 3"
    },
    "language_info": {
      "name": "python"
    }
  },
  "cells": [
    {
      "cell_type": "code",
      "source": [
        "from Bio import pairwise2\n",
        "from Bio.pairwise2 import format_alignment\n",
        "import random\n"
      ],
      "metadata": {
        "colab": {
          "base_uri": "https://localhost:8080/"
        },
        "id": "CYELMGPu71wV",
        "outputId": "3985ac32-c938-428e-e519-63bee0441a8a"
      },
      "execution_count": 11,
      "outputs": [
        {
          "output_type": "stream",
          "name": "stderr",
          "text": [
            "/usr/local/lib/python3.11/dist-packages/Bio/pairwise2.py:278: BiopythonDeprecationWarning: Bio.pairwise2 has been deprecated, and we intend to remove it in a future release of Biopython. As an alternative, please consider using Bio.Align.PairwiseAligner as a replacement, and contact the Biopython developers if you still need the Bio.pairwise2 module.\n",
            "  warnings.warn(\n"
          ]
        }
      ]
    },
    {
      "cell_type": "code",
      "source": [
        "!pip install Bio"
      ],
      "metadata": {
        "colab": {
          "base_uri": "https://localhost:8080/"
        },
        "id": "rDPiSy948FlB",
        "outputId": "a3375065-64be-45f6-9315-8e006d62d0bb"
      },
      "execution_count": 10,
      "outputs": [
        {
          "output_type": "stream",
          "name": "stdout",
          "text": [
            "Collecting Bio\n",
            "  Downloading bio-1.7.1-py3-none-any.whl.metadata (5.7 kB)\n",
            "Collecting biopython>=1.80 (from Bio)\n",
            "  Downloading biopython-1.85-cp311-cp311-manylinux_2_17_x86_64.manylinux2014_x86_64.whl.metadata (13 kB)\n",
            "Collecting gprofiler-official (from Bio)\n",
            "  Downloading gprofiler_official-1.0.0-py3-none-any.whl.metadata (11 kB)\n",
            "Collecting mygene (from Bio)\n",
            "  Downloading mygene-3.2.2-py2.py3-none-any.whl.metadata (10 kB)\n",
            "Requirement already satisfied: pandas in /usr/local/lib/python3.11/dist-packages (from Bio) (2.2.2)\n",
            "Requirement already satisfied: pooch in /usr/local/lib/python3.11/dist-packages (from Bio) (1.8.2)\n",
            "Requirement already satisfied: requests in /usr/local/lib/python3.11/dist-packages (from Bio) (2.32.3)\n",
            "Requirement already satisfied: tqdm in /usr/local/lib/python3.11/dist-packages (from Bio) (4.67.1)\n",
            "Requirement already satisfied: numpy in /usr/local/lib/python3.11/dist-packages (from biopython>=1.80->Bio) (1.26.4)\n",
            "Collecting biothings-client>=0.2.6 (from mygene->Bio)\n",
            "  Downloading biothings_client-0.4.1-py3-none-any.whl.metadata (10 kB)\n",
            "Requirement already satisfied: python-dateutil>=2.8.2 in /usr/local/lib/python3.11/dist-packages (from pandas->Bio) (2.8.2)\n",
            "Requirement already satisfied: pytz>=2020.1 in /usr/local/lib/python3.11/dist-packages (from pandas->Bio) (2025.1)\n",
            "Requirement already satisfied: tzdata>=2022.7 in /usr/local/lib/python3.11/dist-packages (from pandas->Bio) (2025.1)\n",
            "Requirement already satisfied: platformdirs>=2.5.0 in /usr/local/lib/python3.11/dist-packages (from pooch->Bio) (4.3.6)\n",
            "Requirement already satisfied: packaging>=20.0 in /usr/local/lib/python3.11/dist-packages (from pooch->Bio) (24.2)\n",
            "Requirement already satisfied: charset-normalizer<4,>=2 in /usr/local/lib/python3.11/dist-packages (from requests->Bio) (3.4.1)\n",
            "Requirement already satisfied: idna<4,>=2.5 in /usr/local/lib/python3.11/dist-packages (from requests->Bio) (3.10)\n",
            "Requirement already satisfied: urllib3<3,>=1.21.1 in /usr/local/lib/python3.11/dist-packages (from requests->Bio) (2.3.0)\n",
            "Requirement already satisfied: certifi>=2017.4.17 in /usr/local/lib/python3.11/dist-packages (from requests->Bio) (2025.1.31)\n",
            "Requirement already satisfied: httpx>=0.22.0 in /usr/local/lib/python3.11/dist-packages (from biothings-client>=0.2.6->mygene->Bio) (0.28.1)\n",
            "Requirement already satisfied: six>=1.5 in /usr/local/lib/python3.11/dist-packages (from python-dateutil>=2.8.2->pandas->Bio) (1.17.0)\n",
            "Requirement already satisfied: anyio in /usr/local/lib/python3.11/dist-packages (from httpx>=0.22.0->biothings-client>=0.2.6->mygene->Bio) (3.7.1)\n",
            "Requirement already satisfied: httpcore==1.* in /usr/local/lib/python3.11/dist-packages (from httpx>=0.22.0->biothings-client>=0.2.6->mygene->Bio) (1.0.7)\n",
            "Requirement already satisfied: h11<0.15,>=0.13 in /usr/local/lib/python3.11/dist-packages (from httpcore==1.*->httpx>=0.22.0->biothings-client>=0.2.6->mygene->Bio) (0.14.0)\n",
            "Requirement already satisfied: sniffio>=1.1 in /usr/local/lib/python3.11/dist-packages (from anyio->httpx>=0.22.0->biothings-client>=0.2.6->mygene->Bio) (1.3.1)\n",
            "Downloading bio-1.7.1-py3-none-any.whl (280 kB)\n",
            "\u001b[2K   \u001b[90m━━━━━━━━━━━━━━━━━━━━━━━━━━━━━━━━━━━━━━━━\u001b[0m \u001b[32m281.0/281.0 kB\u001b[0m \u001b[31m2.8 MB/s\u001b[0m eta \u001b[36m0:00:00\u001b[0m\n",
            "\u001b[?25hDownloading biopython-1.85-cp311-cp311-manylinux_2_17_x86_64.manylinux2014_x86_64.whl (3.3 MB)\n",
            "\u001b[2K   \u001b[90m━━━━━━━━━━━━━━━━━━━━━━━━━━━━━━━━━━━━━━━━\u001b[0m \u001b[32m3.3/3.3 MB\u001b[0m \u001b[31m30.0 MB/s\u001b[0m eta \u001b[36m0:00:00\u001b[0m\n",
            "\u001b[?25hDownloading gprofiler_official-1.0.0-py3-none-any.whl (9.3 kB)\n",
            "Downloading mygene-3.2.2-py2.py3-none-any.whl (5.4 kB)\n",
            "Downloading biothings_client-0.4.1-py3-none-any.whl (46 kB)\n",
            "\u001b[2K   \u001b[90m━━━━━━━━━━━━━━━━━━━━━━━━━━━━━━━━━━━━━━━━\u001b[0m \u001b[32m46.7/46.7 kB\u001b[0m \u001b[31m2.8 MB/s\u001b[0m eta \u001b[36m0:00:00\u001b[0m\n",
            "\u001b[?25hInstalling collected packages: biopython, gprofiler-official, biothings-client, mygene, Bio\n",
            "Successfully installed Bio-1.7.1 biopython-1.85 biothings-client-0.4.1 gprofiler-official-1.0.0 mygene-3.2.2\n"
          ]
        }
      ]
    },
    {
      "cell_type": "code",
      "source": [
        "def generate_dna(length):\n",
        "    nucleotides = ['A', 'T', 'G', 'C']\n",
        "    random_sequence = ''.join(random.choice(nucleotides) for _ in range(length))\n",
        "    return random_sequence"
      ],
      "metadata": {
        "id": "VLwbfgkX17On"
      },
      "execution_count": 13,
      "outputs": []
    },
    {
      "cell_type": "code",
      "execution_count": 5,
      "metadata": {
        "id": "XepPP7ouxUoH"
      },
      "outputs": [],
      "source": [
        "def needleman_wunsch(seq1, seq2, match, mismatch, indel):\n",
        "    n, m = len(seq1), len(seq2)\n",
        "    score_matrix = [[0 for _ in range(m + 1)] for _ in range(n + 1)]\n",
        "\n",
        "    for i in range(1, n + 1):\n",
        "        score_matrix[i][0] = i * indel\n",
        "    for j in range(1, m + 1):\n",
        "        score_matrix[0][j] = j * indel\n",
        "\n",
        "    for i in range(1, n + 1):\n",
        "        for j in range(1, m + 1):\n",
        "            match_score = score_matrix[i - 1][j - 1] + (match if seq1[i - 1] == seq2[j - 1] else mismatch)\n",
        "            delete_score = score_matrix[i - 1][j] + indel\n",
        "            insert_score = score_matrix[i][j - 1] + indel\n",
        "            score_matrix[i][j] = max(match_score, delete_score, insert_score)\n",
        "\n",
        "    align1, align2 = \"\", \"\"\n",
        "    i, j = n, m\n",
        "    while i > 0 or j > 0:\n",
        "        if i > 0 and j > 0 and score_matrix[i][j] == score_matrix[i - 1][j - 1] + (match if seq1[i - 1] == seq2[j - 1] else mismatch):\n",
        "            align1 = seq1[i - 1] + align1\n",
        "            align2 = seq2[j - 1] + align2\n",
        "            i -= 1\n",
        "            j -= 1\n",
        "        elif i > 0 and score_matrix[i][j] == score_matrix[i - 1][j] + indel:\n",
        "            align1 = seq1[i - 1] + align1\n",
        "            align2 = \"-\" + align2\n",
        "            i -= 1\n",
        "        else:\n",
        "            align1 = \"-\" + align1\n",
        "            align2 = seq2[j - 1] + align2\n",
        "            j -= 1\n",
        "\n",
        "    return align1, align2, score_matrix[n][m]"
      ]
    },
    {
      "cell_type": "code",
      "source": [
        "def smith_waterman(seq1, seq2, match, mismatch, indel):\n",
        "    n, m = len(seq1), len(seq2)\n",
        "\n",
        "    score_matrix = [[0 for _ in range(m + 1)] for _ in range(n + 1)]\n",
        "    max_score = 0\n",
        "    max_pos = (0, 0)\n",
        "\n",
        "    for i in range(1, n + 1):\n",
        "        for j in range(1, m + 1):\n",
        "            match_score = score_matrix[i - 1][j - 1] + (match if seq1[i - 1] == seq2[j - 1] else mismatch)\n",
        "            delete_score = score_matrix[i - 1][j] + indel\n",
        "            insert_score = score_matrix[i][j - 1] + indel\n",
        "            score_matrix[i][j] = max(0, match_score, delete_score, insert_score)\n",
        "\n",
        "            if score_matrix[i][j] > max_score:\n",
        "                max_score = score_matrix[i][j]\n",
        "                max_pos = (i, j)\n",
        "\n",
        "    align1, align2 = \"\", \"\"\n",
        "    i, j = max_pos\n",
        "    while i > 0 and j > 0 and score_matrix[i][j] != 0:\n",
        "        if score_matrix[i][j] == score_matrix[i - 1][j - 1] + (match if seq1[i - 1] == seq2[j - 1] else mismatch):\n",
        "            align1 = seq1[i - 1] + align1\n",
        "            align2 = seq2[j - 1] + align2\n",
        "            i -= 1\n",
        "            j -= 1\n",
        "        elif score_matrix[i][j] == score_matrix[i - 1][j] + indel:\n",
        "            align1 = seq1[i - 1] + align1\n",
        "            align2 = \"-\" + align2\n",
        "            i -= 1\n",
        "        else:\n",
        "            align1 = \"-\" + align1\n",
        "            align2 = seq2[j - 1] + align2\n",
        "            j -= 1\n",
        "\n",
        "    return align1, align2, max_score"
      ],
      "metadata": {
        "id": "2Z1q6LMc0f3j"
      },
      "execution_count": 6,
      "outputs": []
    },
    {
      "cell_type": "code",
      "source": [
        "seq1 = \"AAAGTGA\"\n",
        "seq2 = \"CAATGC\""
      ],
      "metadata": {
        "id": "1ip7rdrs0z-N"
      },
      "execution_count": 3,
      "outputs": []
    },
    {
      "cell_type": "code",
      "source": [
        "align1, align2, score = needleman_wunsch(seq1, seq2, 2, -1, -3)\n",
        "print(align1)\n",
        "print(align2)\n",
        "print(score)"
      ],
      "metadata": {
        "colab": {
          "base_uri": "https://localhost:8080/"
        },
        "id": "EtFSPqMB8aBp",
        "outputId": "d4af5661-5845-404d-d0c9-2396729aaf27"
      },
      "execution_count": 18,
      "outputs": [
        {
          "output_type": "stream",
          "name": "stdout",
          "text": [
            "AAAGTGA\n",
            "CAA-TGC\n",
            "3\n"
          ]
        }
      ]
    },
    {
      "cell_type": "code",
      "source": [
        "align1, align2, score = smith_waterman(seq1, seq2, 2, -1, -3)\n",
        "print(align1)\n",
        "print(align2)\n",
        "print(score)"
      ],
      "metadata": {
        "colab": {
          "base_uri": "https://localhost:8080/"
        },
        "id": "Ii1NelpJ8rrb",
        "outputId": "f2b52367-081b-413f-a3cb-16ae620ce57b"
      },
      "execution_count": 22,
      "outputs": [
        {
          "output_type": "stream",
          "name": "stdout",
          "text": [
            "AAAG\n",
            "AATG\n",
            "5\n"
          ]
        }
      ]
    },
    {
      "cell_type": "code",
      "source": [
        "alignments = pairwise2.align.globalms(\"AAAGTGA\", \"CAATGC\", 2, -1, -3, -3)\n",
        "for alignment in alignments:\n",
        "    print(format_alignment(*alignment))"
      ],
      "metadata": {
        "colab": {
          "base_uri": "https://localhost:8080/"
        },
        "id": "sGYOodGg8BZR",
        "outputId": "ea8bef0c-0ab0-4a40-fb98-6ef315e907a3"
      },
      "execution_count": 24,
      "outputs": [
        {
          "output_type": "stream",
          "name": "stdout",
          "text": [
            "AAAGTGA\n",
            ".|| ||.\n",
            "CAA-TGC\n",
            "  Score=3\n",
            "\n"
          ]
        }
      ]
    }
  ]
}