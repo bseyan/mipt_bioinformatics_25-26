{
 "cells": [
  {
   "cell_type": "code",
   "execution_count": null,
   "id": "eb17a751-ac17-472f-aa76-a1cccac845b0",
   "metadata": {},
   "outputs": [
    {
     "name": "stderr",
     "output_type": "stream",
     "text": [
      "Matplotlib is building the font cache; this may take a moment.\n"
     ]
    }
   ],
   "source": [
    "import pandas as pd\n",
    "import matplotlib.pyplot as plt"
   ]
  },
  {
   "cell_type": "markdown",
   "id": "7a9bd312-0eac-4b4c-bb5a-cc69951e8bf9",
   "metadata": {},
   "source": [
    "# 1. Работа с таблицей"
   ]
  },
  {
   "cell_type": "markdown",
   "id": "8af70c40-eb7c-4578-8d40-9a81b18a1fd5",
   "metadata": {},
   "source": [
    "## 1.1 Чтение таблицы"
   ]
  },
  {
   "cell_type": "code",
   "execution_count": 22,
   "id": "f900224b-abce-4661-8eb4-9eb85aad6fb8",
   "metadata": {},
   "outputs": [
    {
     "name": "stderr",
     "output_type": "stream",
     "text": [
      "/scratch/ipykernel_2084732/3660667865.py:1: DtypeWarning: Columns (32,34,38) have mixed types. Specify dtype option on import or set low_memory=False.\n",
      "  df = pd.read_csv('hgnc_complete_set.tsv', sep='\\t')\n"
     ]
    },
    {
     "data": {
      "text/html": [
       "<div>\n",
       "<style scoped>\n",
       "    .dataframe tbody tr th:only-of-type {\n",
       "        vertical-align: middle;\n",
       "    }\n",
       "\n",
       "    .dataframe tbody tr th {\n",
       "        vertical-align: top;\n",
       "    }\n",
       "\n",
       "    .dataframe thead th {\n",
       "        text-align: right;\n",
       "    }\n",
       "</style>\n",
       "<table border=\"1\" class=\"dataframe\">\n",
       "  <thead>\n",
       "    <tr style=\"text-align: right;\">\n",
       "      <th></th>\n",
       "      <th>hgnc_id</th>\n",
       "      <th>symbol</th>\n",
       "      <th>name</th>\n",
       "      <th>locus_group</th>\n",
       "      <th>locus_type</th>\n",
       "      <th>status</th>\n",
       "      <th>location</th>\n",
       "      <th>location_sortable</th>\n",
       "      <th>alias_symbol</th>\n",
       "      <th>alias_name</th>\n",
       "      <th>...</th>\n",
       "      <th>merops</th>\n",
       "      <th>imgt</th>\n",
       "      <th>iuphar</th>\n",
       "      <th>kznf_gene_catalog</th>\n",
       "      <th>mamit-trnadb</th>\n",
       "      <th>cd</th>\n",
       "      <th>lncrnadb</th>\n",
       "      <th>enzyme_id</th>\n",
       "      <th>intermediate_filament_db</th>\n",
       "      <th>rna_central_ids</th>\n",
       "    </tr>\n",
       "  </thead>\n",
       "  <tbody>\n",
       "    <tr>\n",
       "      <th>0</th>\n",
       "      <td>HGNC:5</td>\n",
       "      <td>A1BG</td>\n",
       "      <td>alpha-1-B glycoprotein</td>\n",
       "      <td>protein-coding gene</td>\n",
       "      <td>gene with protein product</td>\n",
       "      <td>Approved</td>\n",
       "      <td>19q13.43</td>\n",
       "      <td>19q13.43</td>\n",
       "      <td>NaN</td>\n",
       "      <td>NaN</td>\n",
       "      <td>...</td>\n",
       "      <td>I43.950</td>\n",
       "      <td>NaN</td>\n",
       "      <td>NaN</td>\n",
       "      <td>NaN</td>\n",
       "      <td>NaN</td>\n",
       "      <td>NaN</td>\n",
       "      <td>NaN</td>\n",
       "      <td>NaN</td>\n",
       "      <td>NaN</td>\n",
       "      <td>NaN</td>\n",
       "    </tr>\n",
       "    <tr>\n",
       "      <th>1</th>\n",
       "      <td>HGNC:37133</td>\n",
       "      <td>A1BG-AS1</td>\n",
       "      <td>A1BG antisense RNA 1</td>\n",
       "      <td>non-coding RNA</td>\n",
       "      <td>RNA, long non-coding</td>\n",
       "      <td>Approved</td>\n",
       "      <td>19q13.43</td>\n",
       "      <td>19q13.43</td>\n",
       "      <td>FLJ23569</td>\n",
       "      <td>NaN</td>\n",
       "      <td>...</td>\n",
       "      <td>NaN</td>\n",
       "      <td>NaN</td>\n",
       "      <td>NaN</td>\n",
       "      <td>NaN</td>\n",
       "      <td>NaN</td>\n",
       "      <td>NaN</td>\n",
       "      <td>NaN</td>\n",
       "      <td>NaN</td>\n",
       "      <td>NaN</td>\n",
       "      <td>URS00007E4F6E</td>\n",
       "    </tr>\n",
       "    <tr>\n",
       "      <th>2</th>\n",
       "      <td>HGNC:24086</td>\n",
       "      <td>A1CF</td>\n",
       "      <td>APOBEC1 complementation factor</td>\n",
       "      <td>protein-coding gene</td>\n",
       "      <td>gene with protein product</td>\n",
       "      <td>Approved</td>\n",
       "      <td>10q11.23</td>\n",
       "      <td>10q11.23</td>\n",
       "      <td>ACF|ASP|ACF64|ACF65|APOBEC1CF</td>\n",
       "      <td>NaN</td>\n",
       "      <td>...</td>\n",
       "      <td>NaN</td>\n",
       "      <td>NaN</td>\n",
       "      <td>NaN</td>\n",
       "      <td>NaN</td>\n",
       "      <td>NaN</td>\n",
       "      <td>NaN</td>\n",
       "      <td>NaN</td>\n",
       "      <td>NaN</td>\n",
       "      <td>NaN</td>\n",
       "      <td>NaN</td>\n",
       "    </tr>\n",
       "    <tr>\n",
       "      <th>3</th>\n",
       "      <td>HGNC:7</td>\n",
       "      <td>A2M</td>\n",
       "      <td>alpha-2-macroglobulin</td>\n",
       "      <td>protein-coding gene</td>\n",
       "      <td>gene with protein product</td>\n",
       "      <td>Approved</td>\n",
       "      <td>12p13.31</td>\n",
       "      <td>12p13.31</td>\n",
       "      <td>FWP007|S863-7|CPAMD5</td>\n",
       "      <td>NaN</td>\n",
       "      <td>...</td>\n",
       "      <td>I39.001</td>\n",
       "      <td>NaN</td>\n",
       "      <td>NaN</td>\n",
       "      <td>NaN</td>\n",
       "      <td>NaN</td>\n",
       "      <td>NaN</td>\n",
       "      <td>NaN</td>\n",
       "      <td>NaN</td>\n",
       "      <td>NaN</td>\n",
       "      <td>NaN</td>\n",
       "    </tr>\n",
       "    <tr>\n",
       "      <th>4</th>\n",
       "      <td>HGNC:27057</td>\n",
       "      <td>A2M-AS1</td>\n",
       "      <td>A2M antisense RNA 1 (head to head)</td>\n",
       "      <td>non-coding RNA</td>\n",
       "      <td>RNA, long non-coding</td>\n",
       "      <td>Approved</td>\n",
       "      <td>12p13.31</td>\n",
       "      <td>12p13.31</td>\n",
       "      <td>NaN</td>\n",
       "      <td>NaN</td>\n",
       "      <td>...</td>\n",
       "      <td>NaN</td>\n",
       "      <td>NaN</td>\n",
       "      <td>NaN</td>\n",
       "      <td>NaN</td>\n",
       "      <td>NaN</td>\n",
       "      <td>NaN</td>\n",
       "      <td>NaN</td>\n",
       "      <td>NaN</td>\n",
       "      <td>NaN</td>\n",
       "      <td>URS00001F234A</td>\n",
       "    </tr>\n",
       "  </tbody>\n",
       "</table>\n",
       "<p>5 rows × 49 columns</p>\n",
       "</div>"
      ],
      "text/plain": [
       "      hgnc_id    symbol                                name  \\\n",
       "0      HGNC:5      A1BG              alpha-1-B glycoprotein   \n",
       "1  HGNC:37133  A1BG-AS1                A1BG antisense RNA 1   \n",
       "2  HGNC:24086      A1CF      APOBEC1 complementation factor   \n",
       "3      HGNC:7       A2M               alpha-2-macroglobulin   \n",
       "4  HGNC:27057   A2M-AS1  A2M antisense RNA 1 (head to head)   \n",
       "\n",
       "           locus_group                 locus_type    status  location  \\\n",
       "0  protein-coding gene  gene with protein product  Approved  19q13.43   \n",
       "1       non-coding RNA       RNA, long non-coding  Approved  19q13.43   \n",
       "2  protein-coding gene  gene with protein product  Approved  10q11.23   \n",
       "3  protein-coding gene  gene with protein product  Approved  12p13.31   \n",
       "4       non-coding RNA       RNA, long non-coding  Approved  12p13.31   \n",
       "\n",
       "  location_sortable                   alias_symbol alias_name  ...   merops  \\\n",
       "0          19q13.43                            NaN        NaN  ...  I43.950   \n",
       "1          19q13.43                       FLJ23569        NaN  ...      NaN   \n",
       "2          10q11.23  ACF|ASP|ACF64|ACF65|APOBEC1CF        NaN  ...      NaN   \n",
       "3          12p13.31           FWP007|S863-7|CPAMD5        NaN  ...  I39.001   \n",
       "4          12p13.31                            NaN        NaN  ...      NaN   \n",
       "\n",
       "  imgt iuphar kznf_gene_catalog mamit-trnadb   cd lncrnadb enzyme_id  \\\n",
       "0  NaN    NaN               NaN          NaN  NaN      NaN       NaN   \n",
       "1  NaN    NaN               NaN          NaN  NaN      NaN       NaN   \n",
       "2  NaN    NaN               NaN          NaN  NaN      NaN       NaN   \n",
       "3  NaN    NaN               NaN          NaN  NaN      NaN       NaN   \n",
       "4  NaN    NaN               NaN          NaN  NaN      NaN       NaN   \n",
       "\n",
       "   intermediate_filament_db rna_central_ids  \n",
       "0                       NaN             NaN  \n",
       "1                       NaN   URS00007E4F6E  \n",
       "2                       NaN             NaN  \n",
       "3                       NaN             NaN  \n",
       "4                       NaN   URS00001F234A  \n",
       "\n",
       "[5 rows x 49 columns]"
      ]
     },
     "execution_count": 22,
     "metadata": {},
     "output_type": "execute_result"
    }
   ],
   "source": [
    "df = pd.read_csv('hgnc_complete_set.tsv', sep='\\t')\n",
    "df.head(5)"
   ]
  },
  {
   "cell_type": "markdown",
   "id": "2dd962cd-686b-451a-85fe-2edd2981cfa4",
   "metadata": {},
   "source": [
    "## 1.2 Построение графика"
   ]
  },
  {
   "cell_type": "code",
   "execution_count": 23,
   "id": "46d4f5c3-1363-4ba2-8fcd-d1374d368530",
   "metadata": {},
   "outputs": [
    {
     "data": {
      "image/png": "[encoded data removed]",
      "text/plain": [
       "<Figure size 1000x600 with 1 Axes>"
      ]
     },
     "metadata": {},
     "output_type": "display_data"
    }
   ],
   "source": [
    "value_counts = df['locus_group'].value_counts()\n",
    "plt.figure(figsize=(10, 6))\n",
    "value_counts.plot(kind='bar', color='skyblue')  \n",
    "plt.xlabel('Locus Group') \n",
    "plt.ylabel('Count')  \n",
    "plt.title('Гистограмма по столбцу locus_group')\n",
    "plt.xticks(rotation=45) \n",
    "plt.show()"
   ]
  },
  {
   "cell_type": "markdown",
   "id": "69f51daa-dccb-41f1-99cd-80e51d38514a",
   "metadata": {},
   "source": [
    "# 2. Картинка"
   ]
  },
  {
   "cell_type": "code",
   "execution_count": null,
   "id": "328b3742-bc02-441d-9bab-371aeea0b826",
   "metadata": {},
   "outputs": [],
   "source": []
  }
 ],
 "metadata": {
  "kernelspec": {
   "display_name": "Python [conda env:.conda-alignment]",
   "language": "python",
   "name": "conda-env-.conda-alignment-py"
  },
  "language_info": {
   "codemirror_mode": {
    "name": "ipython",
    "version": 3
   },
   "file_extension": ".py",
   "mimetype": "text/x-python",
   "name": "python",
   "nbconvert_exporter": "python",
   "pygments_lexer": "ipython3",
   "version": "3.12.5"
  }
 },
 "nbformat": 4,
 "nbformat_minor": 5
}
